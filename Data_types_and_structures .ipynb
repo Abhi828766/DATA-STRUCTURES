{
  "nbformat": 4,
  "nbformat_minor": 0,
  "metadata": {
    "colab": {
      "provenance": []
    },
    "kernelspec": {
      "name": "python3",
      "display_name": "Python 3"
    },
    "language_info": {
      "name": "python"
    }
  },
  "cells": [
    {
      "cell_type": "markdown",
      "source": [
        "#Data types and sturctures"
      ],
      "metadata": {
        "id": "2JwEax3BTzOo"
      }
    },
    {
      "cell_type": "markdown",
      "source": [],
      "metadata": {
        "id": "hnDjxsY2UWGi"
      }
    },
    {
      "cell_type": "code",
      "execution_count": null,
      "metadata": {
        "id": "42Yl6REDS4Wz"
      },
      "outputs": [],
      "source": []
    },
    {
      "cell_type": "markdown",
      "source": [
        "1.  What are data structures, and why are they important\n",
        "      \n",
        "    Ans.  => data structures are essential for organizing, storing, and managing data in a way that allows computers to efficiently use, retrieve, and manipulate it.\n",
        "\n",
        "2. Explain the difference between mutable and immutable data types with examples.   \n",
        "      Ans. =>  Mutable means \"changeable\". Mutable data types can be modified after they're created.\n",
        "\n",
        "Examples:\n",
        "1. Lists: You can add, remove, or change elements in a list.\n",
        "\n",
        "\n",
        "fruits = [\"apple\", \"banana\"]\n",
        "fruits.append(\"orange\")  # adds \"orange\" to the list\n",
        "print(fruits)  # Output: [\"apple\", \"banana\", \"orange\"]\n",
        "\n",
        "\n",
        "Immutable Data Types\n",
        "Immutable means \"unchangeable\". Immutable data types cannot be modified after they're created.\n",
        "\n",
        "Examples:\n",
        "Integers: You can't change the value of an integer.\n",
        "x = 5\n",
        "x = x + 1  # creates a new integer, doesn't change the original\n",
        "print(x)  # Output: 6\n",
        "\n",
        "3.  What are the main differences between lists and tuples in Python?\n",
        "\n",
        "    Ans=> Lists\n",
        "- Mutable (can be changed)\n",
        "- Defined using square brackets []\n",
        "- Can add, remove, or modify elements\n",
        "- Slower and more memory-intensive\n",
        "\n",
        "Tuples\n",
        "- Immutable (cannot be changed)\n",
        "- Defined using parentheses ()\n",
        "- Cannot add, remove, or modify elements\n",
        "- Faster and more memory-efficient\n",
        "\n",
        " 4.Describe how dictionaries store data\n",
        "\n",
        "    Ans=> Dictionaries store data as key-value pairs.\n",
        "\n",
        "- Keys: Unique names or identifiers (like names, IDs, etc.)\n",
        "- Values: The data associated with each key (like numbers, strings, etc.)\n",
        "\n",
        "5.  Why might you use a set instead of a list in Python\n",
        "    Ans=> sets are ideal when you need fast lookups, unique elements, and efficient mathematical operations.\n",
        "\n",
        "6.  What is a string in Python, and how is it different from a list\n",
        "\n",
        "    Ans=>Immutability: Strings are immutable, while lists are mutable.\n",
        "- Data type: Strings are sequences of characters, while lists can hold any data type.\n",
        "- Syntax: Strings use quotes, while lists use square brackets.\n",
        "\n",
        "7.  How do tuples ensure data integrity in Python?\n",
        "\n",
        "    Ans=> Tuples ensure data integrity in Python by being:\n",
        "\n",
        "Immutable\n",
        "- Tuples cannot be changed after creation.\n",
        "- This prevents accidental or intentional modifications.\n",
        "\n",
        "Protected from modification\n",
        "- Tuples prevent data corruption or tampering.\n",
        "- Ensures that data remains consistent and reliable.\n",
        "\n",
        "8.  What is a hash table, and how does it relate to dictionaries in Python?\n",
        "\n",
        "    Ans=> A hash table is a data structure that stores key-value pairs in an efficient way. It uses a \"hash function\" to map keys to specific locations, allowing for fast lookups, insertions, and deletions.\n",
        "\n",
        "Relation to Dictionaries in Python\n",
        "In Python, dictionaries are implemented using hash tables. This means that dictionaries provide fast and efficient storage and retrieval of key-value pairs, making them ideal for many applications.\n",
        "\n",
        "9.  Can lists contain different data types in Python?\n",
        "\n",
        "    Ans=> Yes, lists in Python can contain different data types!\n",
        "\n",
        "A single list can hold:\n",
        "\n",
        "- Integers (1, 2, 3)\n",
        "- Floats (3.14, 2.5)\n",
        "- Strings (\"hello\", \"world\")\n",
        "- Boolean values (True, False)\n",
        "- Other lists (nested lists)\n",
        "- Even dictionaries and tuples!\n",
        "\n",
        "10.  Explain why strings are immutable in Python.\n",
        "\n",
        "    Ans=> In Python, strings are immutable because:\n",
        "\n",
        "Memory efficiency: No need to create new copies.\n",
        "Thread safety: Multiple threads can access strings safely.\n",
        "Hashing: Strings can be used as dictionary keys.\n",
        "Security: Reduces risk of certain attacks.\n",
        "Simpler code: Easier to implement string operations.\n",
        "\n",
        "11.  What advantages do dictionaries offer over lists for certain tasks\n",
        "\n",
        "    Ans=> Dictionaries offer these advantages over lists:\n",
        "\n",
        "- Faster lookup: Find values by key, instead of searching through the list.\n",
        "- Unique keys: Automatically eliminate duplicate keys.\n",
        "- Organized data: Store and access data by meaningful keys, not just indices.\n",
        "- Efficient insertion and deletion: Add or remove key-value pairs without shifting the entire list.\n",
        "\n",
        "12.  Describe a scenario where using a tuple would be preferable over a list.\n",
        "\n",
        "    Ans=> You're storing a person's name, age, and birthdate. This data shouldn't change.\n",
        "\n",
        "Use a tuple: (name, age, birthdate) because:\n",
        "+ The data is constant and shouldn't be modified.\n",
        "+ You want to ensure data integrity.\n",
        "+ Tuples are faster and more memory-efficient.\n",
        "\n",
        "In this case, a tuple is perfect because it provides a lightweight, immutable way to store a small collection of related values.\n",
        "\n",
        "13. How do sets handle duplicate values in Python?\n",
        "    Ans=> Remove duplicates: If you add a value that already exists in the set, it will be ignored.\n",
        "Maintain uniqueness: Sets only store unique values, ensuring that each element appears only once.\n",
        "\n",
        "Example:\n",
        "\n",
        "\n",
        "my_set = {1, 2, 2, 3, 3, 3}\n",
        "print(my_set)  # Output: {1, 2, 3}\n",
        "\n",
        "14.  How does the “in” keyword work differently for lists and dictionaries\n",
        "    Ans=> The \"in\" keyword works differently for lists and dictionaries:\n",
        "\n",
        "Lists\n",
        "- Checks if a value exists in the list.\n",
        "- Returns True if the value is found, False otherwise.\n",
        "\n",
        "Dictionaries\n",
        "- Checks if a key exists in the dictionary.\n",
        "- Returns True if the key is found, False otherwise.\n",
        "\n",
        "15.  Can you modify the elements of a tuple? Explain why or why not\n",
        "\n",
        "    Ans=> No, you cannot modify the elements of a tuple.\n",
        "\n",
        "Tuples are immutable in Python, meaning their contents cannot be changed after creation. This is because tuples are designed to be lightweight and efficient, and immutability helps ensure data integrity.\n",
        "\n",
        "If you try to modify a tuple, you'll get a TypeError:\n",
        "\n",
        "16.  What is a nested dictionary, and give an example of its use case?\n",
        "\n",
        "    Ans=> A nested dictionary is a dictionary that contains another dictionary as its value\n",
        "    - Storing complex data with multiple levels of information.\n",
        "- Organizing data in a hierarchical structure.\n",
        "- Easily accessing and manipulating nested data.\n",
        "\n",
        "17.  Describe the time complexity of accessing elements in a dictionary\n",
        "\n",
        "    Ans=> Accessing elements in a dictionary has an average time complexity of:\n",
        "\n",
        "O(1)\n",
        "\n",
        "Meaning:\n",
        "\n",
        "- Fast and constant time access, regardless of dictionary size.\n",
        "- Lookup, insertion, and deletion operations are efficient.\n",
        "\n",
        "18.  In what situations are lists preferred over dictionaries?\n",
        "\n",
        "    Ans=> Lists are preferred over dictionaries when:\n",
        "\n",
        "- You need to store ordered data.\n",
        "- You need to access elements by index.\n",
        "- You need to store duplicate values.\n",
        "- You're working with simple, sequential data.\n",
        "\n",
        "19.  Why are dictionaries considered unordered, and how does that affect data retrieval?\n",
        "\n",
        "    Ans=> Dictionaries are considered unordered because the order of key-value pairs is not guaranteed.\n",
        "\n",
        "This affects data retrieval because:\n",
        "\n",
        "- You can't rely on a specific order.\n",
        "- Use methods like .keys(), .values(), or .items() to access data.\n",
        "\n",
        "20.  Explain the difference between a list and a dictionary in terms of data retrieval.\n",
        "    Ans=> List\n",
        "- Retrieve data by index (position).\n",
        "- Use square brackets [] with the index number.\n",
        "\n",
        "Dictionary\n",
        "- Retrieve data by key.\n",
        "- Use square brackets [] with the key name.\n",
        "\n",
        "Example:\n",
        "\n",
        "\n",
        "my_list = [1, 2, 3]\n",
        "my_dict = {\"a\": 1, \"b\": 2}\n",
        "\n",
        "print(my_list[0])  # Output: 1\n",
        "print(my_dict[\"a\"])  # Output: 1\n",
        "\n",
        "\n",
        "\n",
        "\n",
        "\n",
        "\n",
        "\n",
        "\n",
        "\n",
        "\n",
        "\n",
        "\n",
        "\n",
        "\n",
        "\n"
      ],
      "metadata": {
        "id": "EJsP1h89UsVr"
      }
    },
    {
      "cell_type": "markdown",
      "source": [],
      "metadata": {
        "id": "x0x7rvcyhwPU"
      }
    },
    {
      "cell_type": "code",
      "source": [
        "# Q1=> Write a code to create a string with your name and print it\n",
        "\n",
        "name = \"Abhishek\"\n",
        "(name)"
      ],
      "metadata": {
        "colab": {
          "base_uri": "https://localhost:8080/",
          "height": 35
        },
        "id": "CCJgD17cfOi7",
        "outputId": "8f04545c-e5a6-4153-bd0d-b5eba1cf356a"
      },
      "execution_count": null,
      "outputs": [
        {
          "output_type": "execute_result",
          "data": {
            "text/plain": [
              "'Abhishek'"
            ],
            "application/vnd.google.colaboratory.intrinsic+json": {
              "type": "string"
            }
          },
          "metadata": {},
          "execution_count": 13
        }
      ]
    },
    {
      "cell_type": "code",
      "source": [
        "# Q2nd =>  Write a code to find the length of the string \"Hello World\"\n",
        "\n",
        "string = \"Hello World\"\n",
        "len(string)\n",
        "\n"
      ],
      "metadata": {
        "colab": {
          "base_uri": "https://localhost:8080/"
        },
        "id": "zmhO_wJifXdc",
        "outputId": "9e872a46-f46b-4a51-9afe-b602f81dfd46"
      },
      "execution_count": null,
      "outputs": [
        {
          "output_type": "execute_result",
          "data": {
            "text/plain": [
              "11"
            ]
          },
          "metadata": {},
          "execution_count": 26
        }
      ]
    },
    {
      "cell_type": "markdown",
      "source": [],
      "metadata": {
        "id": "Y_Nfj6yCfVeo"
      }
    },
    {
      "cell_type": "code",
      "source": [
        "# Q3=>  Write a code to slice the first 3 characters from the string \"Python Programming\"\n",
        "\n",
        "\n",
        "my_slicing = \"Python programming\"\n",
        "my_slicing[:3]"
      ],
      "metadata": {
        "colab": {
          "base_uri": "https://localhost:8080/",
          "height": 35
        },
        "id": "nh_S7Fd7XI3i",
        "outputId": "47e72d10-31ca-49bb-eeb4-bd9a1a75bb1e"
      },
      "execution_count": 5,
      "outputs": [
        {
          "output_type": "execute_result",
          "data": {
            "text/plain": [
              "'Pyt'"
            ],
            "application/vnd.google.colaboratory.intrinsic+json": {
              "type": "string"
            }
          },
          "metadata": {},
          "execution_count": 5
        }
      ]
    },
    {
      "cell_type": "code",
      "source": [
        "4# Write a code to convert the string \"hello\" to uppercase\n",
        "\n",
        "string = \"hello\"\n",
        "string_2 = string.upper()\n",
        "string_2\n",
        ""
      ],
      "metadata": {
        "colab": {
          "base_uri": "https://localhost:8080/",
          "height": 35
        },
        "id": "iAYaXqhw0APw",
        "outputId": "4b2db874-6b04-4c4c-864f-7ea2b5cd7fd0"
      },
      "execution_count": 17,
      "outputs": [
        {
          "output_type": "execute_result",
          "data": {
            "text/plain": [
              "'HELLO'"
            ],
            "application/vnd.google.colaboratory.intrinsic+json": {
              "type": "string"
            }
          },
          "metadata": {},
          "execution_count": 17
        }
      ]
    },
    {
      "cell_type": "code",
      "source": [
        "# 5 Write a code to replace the word \"apple\" with \"orange\" in the string \"I like apple\"\n",
        "\n",
        "fruit = \" I like apple\"\n",
        "fruit.replace(\"apple\",  \"orange\")\n",
        "\n"
      ],
      "metadata": {
        "colab": {
          "base_uri": "https://localhost:8080/",
          "height": 35
        },
        "id": "FJWEdXxo3jQS",
        "outputId": "f4f618c5-c2cd-451a-c4ad-aeb548d5af19"
      },
      "execution_count": 36,
      "outputs": [
        {
          "output_type": "execute_result",
          "data": {
            "text/plain": [
              "' I like orange'"
            ],
            "application/vnd.google.colaboratory.intrinsic+json": {
              "type": "string"
            }
          },
          "metadata": {},
          "execution_count": 36
        }
      ]
    },
    {
      "cell_type": "code",
      "source": [
        "#. 6  Write a code to create a list with numbers 1 to 5 and print it.\n",
        "\n",
        "List = [1, 2, 3, 4, 5]\n",
        "List"
      ],
      "metadata": {
        "colab": {
          "base_uri": "https://localhost:8080/"
        },
        "id": "hY--zbwn7jAE",
        "outputId": "ff361775-f685-4403-eb8f-6c681b4825e2"
      },
      "execution_count": 37,
      "outputs": [
        {
          "output_type": "execute_result",
          "data": {
            "text/plain": [
              "[1, 2, 3, 4, 5]"
            ]
          },
          "metadata": {},
          "execution_count": 37
        }
      ]
    },
    {
      "cell_type": "code",
      "source": [
        "#. 7  Write a code to append the number 10 to the list [1, 2, 3, 4]\n",
        "\n",
        "Numbers = [1, 2, 3, 4]\n",
        "Numbers.append(10)\n",
        "Numbers"
      ],
      "metadata": {
        "colab": {
          "base_uri": "https://localhost:8080/"
        },
        "id": "vPAx-sgF8Dym",
        "outputId": "830b2cc5-0920-4877-97db-999759ccde12"
      },
      "execution_count": 38,
      "outputs": [
        {
          "output_type": "execute_result",
          "data": {
            "text/plain": [
              "[1, 2, 3, 4, 10]"
            ]
          },
          "metadata": {},
          "execution_count": 38
        }
      ]
    },
    {
      "cell_type": "code",
      "source": [
        "#. 8  Write a code to remove the number 3 from the list [1, 2, 3, 4, 5]\n",
        "\n",
        "Numbers = [1,2,3,4,5]\n",
        "Numbers.remove(3)\n",
        "Numbers"
      ],
      "metadata": {
        "colab": {
          "base_uri": "https://localhost:8080/"
        },
        "id": "X9Kiu4UIAJy0",
        "outputId": "75117f5c-ef38-41c4-b2fa-601aea927e09"
      },
      "execution_count": 40,
      "outputs": [
        {
          "output_type": "execute_result",
          "data": {
            "text/plain": [
              "[1, 2, 4, 5]"
            ]
          },
          "metadata": {},
          "execution_count": 40
        }
      ]
    },
    {
      "cell_type": "code",
      "source": [
        "# 9.  Write a code to access the second element in the list ['a', 'b', 'c', 'd']\n",
        "\n",
        "List = [\"a\",\"b\", \"c\",\"d\"]\n",
        "List[1]"
      ],
      "metadata": {
        "colab": {
          "base_uri": "https://localhost:8080/",
          "height": 35
        },
        "id": "H9D-SH2CAtsl",
        "outputId": "02892672-2c8b-438f-dcdb-badcfb367a95"
      },
      "execution_count": 41,
      "outputs": [
        {
          "output_type": "execute_result",
          "data": {
            "text/plain": [
              "'b'"
            ],
            "application/vnd.google.colaboratory.intrinsic+json": {
              "type": "string"
            }
          },
          "metadata": {},
          "execution_count": 41
        }
      ]
    },
    {
      "cell_type": "code",
      "source": [],
      "metadata": {
        "id": "V763jg2XCcjW"
      },
      "execution_count": null,
      "outputs": []
    },
    {
      "cell_type": "code",
      "source": [
        "#. 10  Write a code to reverse the list [10, 20, 30, 40, 50].\n",
        "\n",
        "List = [10, 20, 30, 40, 50]\n",
        "List.reverse()\n",
        "List"
      ],
      "metadata": {
        "colab": {
          "base_uri": "https://localhost:8080/"
        },
        "id": "kHtNA0JZBdkK",
        "outputId": "b61d2f68-a220-4c8c-fc8d-760443b40c21"
      },
      "execution_count": 48,
      "outputs": [
        {
          "output_type": "execute_result",
          "data": {
            "text/plain": [
              "[50, 40, 30, 20, 10]"
            ]
          },
          "metadata": {},
          "execution_count": 48
        }
      ]
    },
    {
      "cell_type": "code",
      "source": [
        " #11. Write a code to create a tuple with the elements 100, 200, 300 and print it.\n",
        "\n",
        " Numbers = (100, 200, 300)\n",
        " Numbers\n"
      ],
      "metadata": {
        "colab": {
          "base_uri": "https://localhost:8080/"
        },
        "id": "WTSQmKwaChMv",
        "outputId": "1232f629-bda4-4707-ac54-0131f9b36587"
      },
      "execution_count": 49,
      "outputs": [
        {
          "output_type": "execute_result",
          "data": {
            "text/plain": [
              "(100, 200, 300)"
            ]
          },
          "metadata": {},
          "execution_count": 49
        }
      ]
    },
    {
      "cell_type": "markdown",
      "source": [],
      "metadata": {
        "id": "sDx0Bh4wCfpp"
      }
    },
    {
      "cell_type": "code",
      "source": [
        "#12. Write a code to access the second-to-last element of the tuple ('red', 'green', 'blue', 'yellow').\n",
        "\n",
        "Colours = (\"red\", \"green\", \"blue\", \"yellow\")\n",
        "Colours_2 = Colours[-2]\n",
        "Colours_2"
      ],
      "metadata": {
        "colab": {
          "base_uri": "https://localhost:8080/",
          "height": 35
        },
        "id": "UM891WCRC5t6",
        "outputId": "2d17d1fa-e197-4d93-9f2e-ea7ede724bcb"
      },
      "execution_count": 59,
      "outputs": [
        {
          "output_type": "execute_result",
          "data": {
            "text/plain": [
              "'blue'"
            ],
            "application/vnd.google.colaboratory.intrinsic+json": {
              "type": "string"
            }
          },
          "metadata": {},
          "execution_count": 59
        }
      ]
    },
    {
      "cell_type": "code",
      "source": [
        "#13. Write a code to find the minimum number in the tuple (10, 20, 5, 15).\n",
        "\n",
        "Numbers = (10, 20, 5, 15)\n",
        "min(Numbers)\n"
      ],
      "metadata": {
        "colab": {
          "base_uri": "https://localhost:8080/"
        },
        "id": "WeUh2lNiFByj",
        "outputId": "439263c2-faea-471e-8a4b-987764828663"
      },
      "execution_count": 62,
      "outputs": [
        {
          "output_type": "execute_result",
          "data": {
            "text/plain": [
              "5"
            ]
          },
          "metadata": {},
          "execution_count": 62
        }
      ]
    },
    {
      "cell_type": "code",
      "source": [
        " #14. Write a code to find the index of the element \"cat\" in the tuple ('dog', 'cat', 'rabbit').\n",
        "\n",
        " Find = ('dog', 'cat', 'rabbit')\n",
        " Find.index(\"cat\")\n"
      ],
      "metadata": {
        "colab": {
          "base_uri": "https://localhost:8080/"
        },
        "id": "fhRbLHfrFt1P",
        "outputId": "00b012c4-a02b-49a1-fe67-0f8e45f8a867"
      },
      "execution_count": 63,
      "outputs": [
        {
          "output_type": "execute_result",
          "data": {
            "text/plain": [
              "1"
            ]
          },
          "metadata": {},
          "execution_count": 63
        }
      ]
    },
    {
      "cell_type": "code",
      "source": [
        "# 15. Write a code to create a tuple containing three different fruits and check if \"kiwi\" is in it.\n",
        "\n",
        "fruits = (\"banana\", \"apple\", \"papaya\")\n",
        "Fruits_2 = \"kiwi\" in fruits\n",
        "Fruits_2\n",
        "\n"
      ],
      "metadata": {
        "colab": {
          "base_uri": "https://localhost:8080/"
        },
        "id": "bSWLBlyoGK6Z",
        "outputId": "d8273089-e756-4d35-dc79-67d924a2d4d9"
      },
      "execution_count": 71,
      "outputs": [
        {
          "output_type": "execute_result",
          "data": {
            "text/plain": [
              "False"
            ]
          },
          "metadata": {},
          "execution_count": 71
        }
      ]
    },
    {
      "cell_type": "code",
      "source": [
        "# 16. Write a code to create a set with the elements 'a', 'b', 'c' and print it.\n",
        "\n",
        "Set = {\"a\", \"b\", \"c\"}\n",
        "Set"
      ],
      "metadata": {
        "colab": {
          "base_uri": "https://localhost:8080/"
        },
        "id": "4aEiEanhHzA1",
        "outputId": "be88aafa-3303-40a3-e8b4-b9a0276c5095"
      },
      "execution_count": 72,
      "outputs": [
        {
          "output_type": "execute_result",
          "data": {
            "text/plain": [
              "{'a', 'b', 'c'}"
            ]
          },
          "metadata": {},
          "execution_count": 72
        }
      ]
    },
    {
      "cell_type": "code",
      "source": [
        "# 17. Write a code to clear all elements from the set {1, 2, 3, 4, 5}.\n",
        "\n",
        "set ={1, 2, 3 , 4 , 5}\n",
        "set.clear()\n",
        "set\n"
      ],
      "metadata": {
        "colab": {
          "base_uri": "https://localhost:8080/"
        },
        "id": "pd4jS5Y1IE0d",
        "outputId": "e5748b36-7056-4ba9-af66-c466272b5c79"
      },
      "execution_count": 78,
      "outputs": [
        {
          "output_type": "execute_result",
          "data": {
            "text/plain": [
              "set()"
            ]
          },
          "metadata": {},
          "execution_count": 78
        }
      ]
    },
    {
      "cell_type": "code",
      "source": [
        "#  18. Write a code to remove the element 4 from the set {1, 2, 3, 4}.\n",
        "\n",
        "Set = {1, 2, 3, 4}\n",
        "Set.remove(4)\n",
        "Set"
      ],
      "metadata": {
        "colab": {
          "base_uri": "https://localhost:8080/"
        },
        "id": "bTRGfH5qJaCq",
        "outputId": "1613eff8-41c2-47b1-a5ac-39306e4cd298"
      },
      "execution_count": 87,
      "outputs": [
        {
          "output_type": "execute_result",
          "data": {
            "text/plain": [
              "{1, 2, 3}"
            ]
          },
          "metadata": {},
          "execution_count": 87
        }
      ]
    },
    {
      "cell_type": "code",
      "source": [
        "# 19. Write a code to find the union of two sets {1, 2, 3} and {3, 4, 5}.\n",
        "\n",
        "Set_1 = {1, 2, 3}\n",
        "Set_2 = {3, 4, 5}\n",
        "Set_1.union(Set_2)"
      ],
      "metadata": {
        "colab": {
          "base_uri": "https://localhost:8080/"
        },
        "id": "C1EqRSvqJ2Lu",
        "outputId": "e3bbfe78-f8d8-4c04-8e37-e1707747eca1"
      },
      "execution_count": 89,
      "outputs": [
        {
          "output_type": "execute_result",
          "data": {
            "text/plain": [
              "{1, 2, 3, 4, 5}"
            ]
          },
          "metadata": {},
          "execution_count": 89
        }
      ]
    },
    {
      "cell_type": "code",
      "source": [
        "# 20. Write a code to find the intersection of two sets {1, 2, 3} and {2, 3, 4}.\n",
        "\n",
        "Set_1 = {1, 2, 3}\n",
        "Set_2 = {2, 3, 4}\n",
        "Set_1.intersection(Set_2)"
      ],
      "metadata": {
        "colab": {
          "base_uri": "https://localhost:8080/"
        },
        "id": "YyOyQ97EKUEm",
        "outputId": "cae9813f-3609-4f33-ae96-e98460b8e65c"
      },
      "execution_count": 90,
      "outputs": [
        {
          "output_type": "execute_result",
          "data": {
            "text/plain": [
              "{2, 3}"
            ]
          },
          "metadata": {},
          "execution_count": 90
        }
      ]
    },
    {
      "cell_type": "code",
      "source": [
        "# 21. Write a code to create a dictionary with the keys \"name\", \"age\", and \"city\", and print it.\n",
        "\n",
        "\n",
        "Details = {\"name\" :\"Abhishek\", \"Age\" : \"24\", \"City\": \"Delhi\"}\n",
        "(Details)"
      ],
      "metadata": {
        "colab": {
          "base_uri": "https://localhost:8080/"
        },
        "id": "K-cEITOxK0qM",
        "outputId": "fee9fe1f-566c-4e7e-956c-6551c9a2a75a"
      },
      "execution_count": 99,
      "outputs": [
        {
          "output_type": "execute_result",
          "data": {
            "text/plain": [
              "{'name': 'Abhishek', 'Age': '24', 'City': 'Delhi'}"
            ]
          },
          "metadata": {},
          "execution_count": 99
        }
      ]
    },
    {
      "cell_type": "code",
      "source": [
        "# 22. Write a code to add a new key-value pair \"country\": \"USA\" to the dictionary {'name': 'John', 'age': 25}.\n",
        "\n",
        "Details = {'name': 'John', 'age': 25}\n",
        "Details[\"country\"] = \"USA\"\n",
        "Details"
      ],
      "metadata": {
        "colab": {
          "base_uri": "https://localhost:8080/"
        },
        "id": "xETjymvSNHh8",
        "outputId": "b99be97a-60f9-4445-aa88-bc56c0b117cc"
      },
      "execution_count": 100,
      "outputs": [
        {
          "output_type": "execute_result",
          "data": {
            "text/plain": [
              "{'name': 'John', 'age': 25, 'country': 'USA'}"
            ]
          },
          "metadata": {},
          "execution_count": 100
        }
      ]
    },
    {
      "cell_type": "code",
      "source": [
        "# 23. Write a code to access the value associated with the key \"name\" in the dictionary {'name': 'Alice', 'age': 30}.\n",
        "\n",
        "Details = {'name': 'Alice', 'age': 30}\n",
        "Details[\"name\"]"
      ],
      "metadata": {
        "colab": {
          "base_uri": "https://localhost:8080/",
          "height": 35
        },
        "id": "B5tDXfW7Nuim",
        "outputId": "8ba39e4e-b32a-46fa-e189-9246e0548f6b"
      },
      "execution_count": 101,
      "outputs": [
        {
          "output_type": "execute_result",
          "data": {
            "text/plain": [
              "'Alice'"
            ],
            "application/vnd.google.colaboratory.intrinsic+json": {
              "type": "string"
            }
          },
          "metadata": {},
          "execution_count": 101
        }
      ]
    },
    {
      "cell_type": "code",
      "source": [
        "#  24. Write a code to remove the key \"age\" from the dictionary {'name': 'Bob', 'age': 22, 'city': 'New York'}.\n",
        "\n",
        "Details = {'name': 'Bob', 'age': 22, 'city': 'New York'}\n",
        "Details.pop(\"age\")\n",
        "Details"
      ],
      "metadata": {
        "colab": {
          "base_uri": "https://localhost:8080/"
        },
        "id": "HEgStjSnN4-e",
        "outputId": "c23a9963-81c6-40fd-d438-1a3bb86a9833"
      },
      "execution_count": 102,
      "outputs": [
        {
          "output_type": "execute_result",
          "data": {
            "text/plain": [
              "{'name': 'Bob', 'city': 'New York'}"
            ]
          },
          "metadata": {},
          "execution_count": 102
        }
      ]
    },
    {
      "cell_type": "code",
      "source": [
        "#  25. Write a code to check if the key \"city\" exists in the dictionary {'name': 'Alice', 'city': 'Paris'}.\n",
        "\n",
        "Details = {'name': 'Alice', 'city': 'Paris'}\n",
        "if \"city\" in Details:\n",
        "  print(\"Key 'city' exists in the dictionary.\")\n",
        "else:\n",
        "  print(\"Key 'city' does not exist in the dictionary.\")"
      ],
      "metadata": {
        "colab": {
          "base_uri": "https://localhost:8080/"
        },
        "id": "iunDNwhqOJvq",
        "outputId": "0e79ad42-cd7c-4fc6-8be6-0bb5fc971eea"
      },
      "execution_count": 135,
      "outputs": [
        {
          "output_type": "stream",
          "name": "stdout",
          "text": [
            "Key 'city' exists in the dictionary.\n"
          ]
        }
      ]
    },
    {
      "cell_type": "code",
      "source": [
        "from typing import Dict\n",
        "# 26. Write a code to create a list, a tuple, and a dictionary, and print them all.\n",
        "\n",
        "List = [1, 2, 3, 4, 5]\n",
        "Tuple = (\"a, b, c\")\n",
        "Dict = {\"name\": \"Abhishek\", \"Age\": \"24\"}\n",
        "print(List)\n",
        "print(Tuple)\n",
        "print(Dict)\n"
      ],
      "metadata": {
        "colab": {
          "base_uri": "https://localhost:8080/"
        },
        "id": "gvAc17q1OSuC",
        "outputId": "f922ee19-e524-4298-87b4-97aebd83cf78"
      },
      "execution_count": 106,
      "outputs": [
        {
          "output_type": "stream",
          "name": "stdout",
          "text": [
            "[1, 2, 3, 4, 5]\n",
            "a, b, c\n",
            "{'name': 'Abhishek', 'Age': '24'}\n"
          ]
        }
      ]
    },
    {
      "cell_type": "code",
      "source": [
        "# 27. Write a code to create a list of 5 random numbers between 1 and 100, sort it in ascending order, and print the\n",
        "\n",
        "import random\n",
        "random_numbers = [random.randint(1, 100) for _ in range(5)]\n",
        "random_numbers.sort()\n",
        "print(random_numbers)"
      ],
      "metadata": {
        "colab": {
          "base_uri": "https://localhost:8080/"
        },
        "id": "a2OszTYnOmfk",
        "outputId": "249e5ad1-ddd2-4792-d00c-180d1c8cd5b1"
      },
      "execution_count": 107,
      "outputs": [
        {
          "output_type": "stream",
          "name": "stdout",
          "text": [
            "[8, 16, 44, 52, 89]\n"
          ]
        }
      ]
    },
    {
      "cell_type": "code",
      "source": [
        "#28. Write a code to create a list with strings and print the element at the third index.\n",
        "\n",
        "List =[\"apple\", \"banana\", \"mango\", \"kiwi\"]\n",
        "List_2 = List [3]\n",
        "print(List_2)\n"
      ],
      "metadata": {
        "colab": {
          "base_uri": "https://localhost:8080/"
        },
        "id": "jFwx2EGQPWxF",
        "outputId": "686d9b95-7002-488b-8028-4cbb2f2d1243"
      },
      "execution_count": 121,
      "outputs": [
        {
          "output_type": "stream",
          "name": "stdout",
          "text": [
            "kiwi\n"
          ]
        }
      ]
    },
    {
      "cell_type": "code",
      "source": [
        "#29  Write a code to combine two dictionaries into one and print the result.\n",
        "\n",
        "Dict_1 = {\"Name\":\"Abhi\", \"age\" :29}\n",
        "Dict_2 = {\"city\":\"Delhi\", \"marks\":99}\n",
        "\n",
        "Dict_3 = {**Dict_1,**Dict_2}\n",
        "Dict_3\n"
      ],
      "metadata": {
        "colab": {
          "base_uri": "https://localhost:8080/"
        },
        "id": "iIZiOLr0Q68z",
        "outputId": "4303f3c5-aa0d-4dbc-ba1f-19db6e4d3785"
      },
      "execution_count": 134,
      "outputs": [
        {
          "output_type": "execute_result",
          "data": {
            "text/plain": [
              "{'Name': 'Abhi', 'age': 29, 'city': 'Delhi', 'marks': 99}"
            ]
          },
          "metadata": {},
          "execution_count": 134
        }
      ]
    },
    {
      "cell_type": "code",
      "source": [
        "# 30. Write a code to convert a list of strings into a set.\n",
        "\n",
        "list_1 = [\"apple\", \"banana\", \"mango\", \"kiwi\"]\n",
        "new_set = set(list_1)\n",
        "new_set\n",
        "\n"
      ],
      "metadata": {
        "colab": {
          "base_uri": "https://localhost:8080/",
          "height": 211
        },
        "id": "W9hN1k1PTir5",
        "outputId": "8391d0c1-a313-426f-d75d-01c856d45799"
      },
      "execution_count": 149,
      "outputs": [
        {
          "output_type": "error",
          "ename": "TypeError",
          "evalue": "'set' object is not callable",
          "traceback": [
            "\u001b[0;31m---------------------------------------------------------------------------\u001b[0m",
            "\u001b[0;31mTypeError\u001b[0m                                 Traceback (most recent call last)",
            "\u001b[0;32m<ipython-input-149-e306ee4106ed>\u001b[0m in \u001b[0;36m<cell line: 0>\u001b[0;34m()\u001b[0m\n\u001b[1;32m      2\u001b[0m \u001b[0;34m\u001b[0m\u001b[0m\n\u001b[1;32m      3\u001b[0m \u001b[0mlist_1\u001b[0m \u001b[0;34m=\u001b[0m \u001b[0;34m[\u001b[0m\u001b[0;34m\"apple\"\u001b[0m\u001b[0;34m,\u001b[0m \u001b[0;34m\"banana\"\u001b[0m\u001b[0;34m,\u001b[0m \u001b[0;34m\"mango\"\u001b[0m\u001b[0;34m,\u001b[0m \u001b[0;34m\"kiwi\"\u001b[0m\u001b[0;34m]\u001b[0m\u001b[0;34m\u001b[0m\u001b[0;34m\u001b[0m\u001b[0m\n\u001b[0;32m----> 4\u001b[0;31m \u001b[0mnew_set\u001b[0m \u001b[0;34m=\u001b[0m \u001b[0mset\u001b[0m\u001b[0;34m(\u001b[0m\u001b[0mlist_1\u001b[0m\u001b[0;34m)\u001b[0m\u001b[0;34m\u001b[0m\u001b[0;34m\u001b[0m\u001b[0m\n\u001b[0m\u001b[1;32m      5\u001b[0m \u001b[0mnew_set\u001b[0m\u001b[0;34m\u001b[0m\u001b[0;34m\u001b[0m\u001b[0m\n\u001b[1;32m      6\u001b[0m \u001b[0;34m\u001b[0m\u001b[0m\n",
            "\u001b[0;31mTypeError\u001b[0m: 'set' object is not callable"
          ]
        }
      ]
    },
    {
      "cell_type": "markdown",
      "source": [],
      "metadata": {
        "id": "LyL3ta99GIyl"
      }
    },
    {
      "cell_type": "markdown",
      "source": [],
      "metadata": {
        "id": "e0p0W9kxF4mj"
      }
    }
  ]
}